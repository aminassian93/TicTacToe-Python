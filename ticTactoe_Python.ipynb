{
 "cells": [
  {
   "cell_type": "markdown",
   "metadata": {},
   "source": [
    "# Step 1 Display Board"
   ]
  },
  {
   "cell_type": "code",
   "execution_count": 1,
   "metadata": {},
   "outputs": [],
   "source": [
    "from IPython.display import clear_output\n",
    "\n",
    "def display_board(board):\n",
    "    clear_output()  # Remember, this only works in jupyter!\n",
    "    print('   |   |')\n",
    "    print(' ' + board[7] + ' | ' + board[8] + ' | ' + board[9])\n",
    "    print('   |   |')\n",
    "    print('-----------')\n",
    "    print('   |   |')\n",
    "    print(' ' + board[4] + ' | ' + board[5] + ' | ' + board[6])\n",
    "    print('   |   |')\n",
    "    print('-----------')\n",
    "    \n",
    "    print('   |   |')\n",
    "    print(' ' + board[1] + ' | ' + board[2] + ' | ' + board[3])\n",
    "    print('   |   |')"
   ]
  },
  {
   "cell_type": "code",
   "execution_count": 2,
   "metadata": {},
   "outputs": [],
   "source": [
    "# step 1 test\n",
    "\n",
    "test_board = ['#','','O','','O','X','O','X','X','X']\n",
    "display_board(test_board)"
   ]
  },
  {
   "cell_type": "markdown",
   "metadata": {},
   "source": [
    "# Step 2 Take Player Input"
   ]
  },
  {
   "cell_type": "code",
   "execution_count": 3,
   "metadata": {},
   "outputs": [],
   "source": [
    "# step 2 take player input\n",
    "\n",
    "def player_input():\n",
    "    marker = ''\n",
    "    # KEEP ASKING PLAYER 1 to choose X Or 0\n",
    "    while marker != 'X' and marker != 'O':\n",
    "        marker = input('\\nPlayer1, choose X or 0: ')\n",
    "   \n",
    "    if marker == 'X':\n",
    "        return('X','O')\n",
    "    else:\n",
    "        return('O','X')"
   ]
  },
  {
   "cell_type": "markdown",
   "metadata": {},
   "source": [
    "# Step 3\n",
    "\n",
    "\n",
    "## Write a function that takes in the board list object, a marker (x,o) and a desired position number 1-9 and assigns it too the board"
   ]
  },
  {
   "cell_type": "code",
   "execution_count": 4,
   "metadata": {},
   "outputs": [],
   "source": [
    "def place_marker(board,marker,position):\n",
    "    board[position] = marker"
   ]
  },
  {
   "cell_type": "markdown",
   "metadata": {},
   "source": [
    "# Step 4 \n",
    "## Check To See If Latest Marker Has Won Game"
   ]
  },
  {
   "cell_type": "code",
   "execution_count": 5,
   "metadata": {},
   "outputs": [],
   "source": [
    "def win_check(board,mark):\n",
    "    return((board[7] == mark and board[8] == mark and board[9] == mark) or # accross the top\n",
    "           (board[4] == mark and board[5] == mark and board[6] == mark) or # across the middle\n",
    "           (board[1] == mark and board[2] == mark and board[3] == mark) or # across the bottom\n",
    "           (board[1] == mark and board[4] == mark and board[7] == mark) or # left column\n",
    "           (board[2] == mark and board[5] == mark and board[8] == mark) or # middle column\n",
    "           (board[3] == mark and board[6] == mark and board[9] == mark) or # right column\n",
    "           (board[1] == mark and board[5] == mark and board[9] == mark) or # diagonal left to right\n",
    "           (board[3] == mark and board[4] == mark and board[7] == mark)\n",
    "          )"
   ]
  },
  {
   "cell_type": "code",
   "execution_count": 6,
   "metadata": {},
   "outputs": [],
   "source": [
    "win_check(test_board,'O')"
   ]
  },
  {
   "cell_type": "markdown",
   "metadata": {},
   "source": [
    "# Step 5 Write a function that randomly selects which player goes first"
   ]
  },
  {
   "cell_type": "code",
   "execution_count": 7,
   "metadata": {},
   "outputs": [],
   "source": [
    "import random \n",
    "\n",
    "def choose_first():\n",
    "    return random.randint(1,2)\n",
    "\n",
    "choose_first()"
   ]
  },
  {
   "cell_type": "markdown",
   "metadata": {},
   "source": [
    "# Step 6 Write a function that checks if position is available"
   ]
  },
  {
   "cell_type": "code",
   "execution_count": 8,
   "metadata": {},
   "outputs": [],
   "source": [
    "# write function to see if particular space is open\n",
    "def space_check(board,position):\n",
    "    if not board[position]:\n",
    "        return True\n",
    "    else:\n",
    "        return False"
   ]
  },
  {
   "cell_type": "code",
   "execution_count": 9,
   "metadata": {},
   "outputs": [],
   "source": [
    "space_check(test_board,3)"
   ]
  },
  {
   "cell_type": "markdown",
   "metadata": {},
   "source": [
    "# Step 7 Check If Board Is Full"
   ]
  },
  {
   "cell_type": "code",
   "execution_count": 19,
   "metadata": {},
   "outputs": [],
   "source": [
    "# write function to see if board is full\n",
    "def full_board_check(board):\n",
    "    for i in range(1,10):\n",
    "        if space_check(board,i):\n",
    "            return False\n",
    "    return True"
   ]
  },
  {
   "cell_type": "code",
   "execution_count": 20,
   "metadata": {},
   "outputs": [
    {
     "data": {
      "text/plain": [
       "True"
      ]
     },
     "execution_count": 20,
     "metadata": {},
     "output_type": "execute_result"
    }
   ],
   "source": [
    "full_board_check(board)\n",
    "\n"
   ]
  },
  {
   "cell_type": "code",
   "execution_count": 12,
   "metadata": {},
   "outputs": [],
   "source": [
    "print(test_board)"
   ]
  },
  {
   "cell_type": "markdown",
   "metadata": {},
   "source": [
    "# Step 8\n",
    "## Write a function that asks for players next position (1-9) then use step 6 to see if free"
   ]
  },
  {
   "cell_type": "code",
   "execution_count": 13,
   "metadata": {},
   "outputs": [],
   "source": [
    "def player_choice(board):\n",
    "    while not False:\n",
    "        position_Choice = int(input('Choose Position: '))\n",
    "        if space_check(board,position_Choice):\n",
    "            print(\"Position: - {} - is Available\".format(position_Choice))\n",
    "            return position_Choice\n",
    "        else:\n",
    "            print(\"Position: - {} - is NOT available, Choose another.\".format(position_Choice))"
   ]
  },
  {
   "cell_type": "markdown",
   "metadata": {},
   "source": [
    "# Step 9 \n",
    "## Create function to Ask player if they want to play again"
   ]
  },
  {
   "cell_type": "code",
   "execution_count": 22,
   "metadata": {},
   "outputs": [],
   "source": [
    "def replay():\n",
    "    return input(\"Do you want to keep playing Y or N? \").lower().startswith('y')"
   ]
  },
  {
   "cell_type": "markdown",
   "metadata": {},
   "source": [
    "# Step 10\n",
    "## Use Whileloops to run the game"
   ]
  },
  {
   "cell_type": "code",
   "execution_count": 21,
   "metadata": {},
   "outputs": [
    {
     "name": "stdout",
     "output_type": "stream",
     "text": [
      "   |   |\n",
      " X | X | O\n",
      "   |   |\n",
      "-----------\n",
      "   |   |\n",
      " O | O | X\n",
      "   |   |\n",
      "-----------\n",
      "   |   |\n",
      " X | X | O\n",
      "   |   |\n",
      "The Game Is A Draw!\n",
      "Do you want to keep playing Y or N?n\n"
     ]
    }
   ],
   "source": [
    "print(\"Welcome To The Tic Tac Toe!\")\n",
    "\n",
    "while True:\n",
    "    \n",
    "    board = [''] * 10\n",
    "\n",
    "    \n",
    "    # Players Choosing Marker\n",
    "    player1_M,player2_M = player_input()\n",
    "    \n",
    "    # Who Goes First\n",
    "    turn = int(choose_first())\n",
    "    \n",
    "    print(\"\\nPlayer {} Will Go First! \".format(turn))\n",
    "        \n",
    "    print(\"\\nPlayer 1 Marker: {}, Player 2 Marker: {}\".format(player1_M,player2_M))\n",
    "    board = ['','','','','','','','','','']\n",
    "    \n",
    "    \n",
    "    play_game = input(\"Are you ready to play? Y Or N!\")\n",
    "    \n",
    "    if play_game == 'y' or 'Y':\n",
    "        game_on = True    \n",
    "    while game_on:\n",
    "        if turn == 1:\n",
    "\n",
    "            #display board\n",
    "            display_board(board)\n",
    "\n",
    "            # get position\n",
    "            print(\"\\nPlayer 1\")\n",
    "            position = player_choice(board)\n",
    "\n",
    "            # place marker place_marker(board,marker,position\n",
    "            place_marker(board,player1_M,position)\n",
    "\n",
    "            if win_check(board,player1_M):\n",
    "                display_board(board)\n",
    "                print(\"You Won Player 1\")\n",
    "                game_on = False\n",
    "            else:\n",
    "                if full_board_check(board):\n",
    "                    display_board(board)\n",
    "                    print('The Game Is A Draw!')\n",
    "                    break\n",
    "                else:\n",
    "                    turn = 2\n",
    "\n",
    "            print(turn)\n",
    "        else:\n",
    "\n",
    "            #display board\n",
    "            display_board(board)\n",
    "\n",
    "            # get position\n",
    "            print(\"\\nPlayer 2\")\n",
    "            position = player_choice(board)\n",
    "\n",
    "            # place marker place_marker(board,marker,position\n",
    "            place_marker(board,player2_M,position)\n",
    "\n",
    "            if win_check(board,player2_M):\n",
    "                display_board(board)\n",
    "                print(\"You Won Player 2\")\n",
    "                game_on = False\n",
    "            else:\n",
    "                if full_board_check(board):\n",
    "                    display_board(board)\n",
    "                    print('The Game Is A Draw!')\n",
    "                    break\n",
    "                turn = 1\n",
    "        \n",
    "    if not replay():\n",
    "        break\n"
   ]
  },
  {
   "cell_type": "code",
   "execution_count": null,
   "metadata": {},
   "outputs": [],
   "source": []
  }
 ],
 "metadata": {
  "kernelspec": {
   "display_name": "Python 3",
   "language": "python",
   "name": "python3"
  },
  "language_info": {
   "codemirror_mode": {
    "name": "ipython",
    "version": 3
   },
   "file_extension": ".py",
   "mimetype": "text/x-python",
   "name": "python",
   "nbconvert_exporter": "python",
   "pygments_lexer": "ipython3",
   "version": "3.7.3"
  }
 },
 "nbformat": 4,
 "nbformat_minor": 2
}
